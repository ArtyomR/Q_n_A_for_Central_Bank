{
  "nbformat": 4,
  "nbformat_minor": 0,
  "metadata": {
    "colab": {
      "provenance": [],
      "include_colab_link": true
    },
    "kernelspec": {
      "name": "python3",
      "display_name": "Python 3"
    },
    "language_info": {
      "name": "python"
    }
  },
  "cells": [
    {
      "cell_type": "markdown",
      "metadata": {
        "id": "view-in-github",
        "colab_type": "text"
      },
      "source": [
        "<a href=\"https://colab.research.google.com/github/ArtyomR/Q_n_A_for_Central_Bank/blob/main/parser_3.ipynb\" target=\"_parent\"><img src=\"https://colab.research.google.com/assets/colab-badge.svg\" alt=\"Open In Colab\"/></a>"
      ]
    },
    {
      "cell_type": "code",
      "execution_count": null,
      "metadata": {
        "id": "w9Y1E28pVJ-p"
      },
      "outputs": [],
      "source": [
        "from bs4 import BeautifulSoup\n",
        "import requests\n",
        "import csv"
      ]
    },
    {
      "cell_type": "markdown",
      "source": [
        "Начало основного:"
      ],
      "metadata": {
        "id": "Kb8R0tNJAJWW"
      }
    },
    {
      "cell_type": "markdown",
      "source": [
        "Функция забирающая информацию из ячеек (div\", class_ =  {\"question_title referenceable\") html кода"
      ],
      "metadata": {
        "id": "7tjPDxGIqv_z"
      }
    },
    {
      "cell_type": "code",
      "source": [
        "#url =\"https://cbr.ru/faq/voprosy-i-otvety-po-kreditnym-kanikulam-dlya-uchastnikov-special-noy-voennoy-operacii/\"\n",
        "\n",
        "\n",
        "#qeses = []\n",
        "#answers = []\n",
        "#работает\n",
        "# нужго чтоб брал оба: \"question_title referenceable\" or 'question_title _active referenceable'\n",
        "def par_qes_str(url, tem_num, answers, qeses, urls, tem_nums):\n",
        "\n",
        "\n",
        "  res = requests.get(url = url)\n",
        "  soup = BeautifulSoup(res.text, \"lxml\")\n",
        "  qes_boxes = soup.find_all(\"div\", class_= \"dropdown question\")\n",
        "  for box in qes_boxes:\n",
        "    qeses.append(box.find(\"div\", class_ =  {\"question_title referenceable\", 'question_title _active referenceable'} ).text)\n",
        "    answers.append(box.find('div', class_ = \"additional-text-block\").text)\n",
        "    url_box = box.find(\"div\", class_ = \"copy-btn\")\n",
        "    urls.append(url_box.get(\"data-copy-url\"))\n",
        "    tem_nums.append(tem_num)\n",
        "\n"
      ],
      "metadata": {
        "id": "NtETCATrkxyX"
      },
      "execution_count": null,
      "outputs": []
    },
    {
      "cell_type": "code",
      "source": [
        "#проверка\n",
        "a = []\n",
        "b = []\n",
        "u = []\n",
        "par_qes_str('https://cbr.ru/faq/w_fin_sector/Nalichnaya_valyuta_na_komandirovochnye_raskhody/',a, b, u)\n",
        "for i in range(len(a)):\n",
        "  print(b[i] + a[i] + u[i])"
      ],
      "metadata": {
        "colab": {
          "base_uri": "https://localhost:8080/"
        },
        "id": "1_U7L0MH1O_6",
        "outputId": "31eb4bde-5b9d-4c07-df8a-e9696c521423"
      },
      "execution_count": null,
      "outputs": [
        {
          "output_type": "stream",
          "name": "stdout",
          "text": [
            "Как может компания или индивидуальный предприниматель - резидент получить наличную валюту для зарубежных командировок?\n",
            "\n",
            "Для оплаты командировочных расходов в течение шести месяцев с 9 марта 2024 года вы можете получить со счетов наличные доллары США, евро, фунты стерлингов и японские иены, исходя из установленных в соответствии с законодательством нормативов оплаты.\n",
            "На другие иностранные валюты ограничений нет при условии соответствия операций требованиям законодательства. Для конвертации долларов США, евро, фунтов стерлингов, японских иен в иную иностранную валюту используется курс банка на день выдачи.\n",
            "При необходимости со счетов, открытых в иностранной валюте, можно получить наличные рубли без ограничений с учетом требований законодательства и условий договора, при этом сумма к выдаче определяется по курсу банка. Покупку необходимой наличной валюты можно совершить в кредитной организации, предлагающей такие услуги.\n",
            "http://www.cbr.ru/Reception/TopicalMessage/Page/7089\n"
          ]
        }
      ]
    },
    {
      "cell_type": "markdown",
      "source": [
        "\n",
        "Функция собирающая ссылки на страницах по ссылкам с https://cbr.ru/faq/ или https://cbr.ru/explan/"
      ],
      "metadata": {
        "id": "lJ5TqW_arKey"
      }
    },
    {
      "cell_type": "code",
      "source": [
        "#работает\n",
        "def par_tem2_str(url, links):\n",
        "  #url = 'https://cbr.ru/faq/w_fin_sector/'\n",
        "  #links = []\n",
        "  res = requests.get(url = url)\n",
        "  soup = BeautifulSoup(res.text, \"lxml\")\n",
        "  tems = soup.find_all(\"a\", class_= \"dropdown_link referenceable\")\n",
        "  for tem in tems:\n",
        "    links.append(tem.get('href'))\n",
        "\n",
        "#par_qes_str(url, answers, qeses)\n",
        "\n"
      ],
      "metadata": {
        "id": "m6F3CiRYlTFO"
      },
      "execution_count": null,
      "outputs": []
    },
    {
      "cell_type": "markdown",
      "source": [
        "Функция собирающая ссылки на страницах https://cbr.ru/faq/ или https://cbr.ru/explan/"
      ],
      "metadata": {
        "id": "IxNxVH3QsBYu"
      }
    },
    {
      "cell_type": "code",
      "source": [
        "#работает\n",
        "#https://cbr.ru/faq/\n",
        "def par_tem1_str(url, links, cont_tems):\n",
        "  res = requests.get(url = url)\n",
        "  soup = BeautifulSoup(res.text, \"lxml\")\n",
        "  tems = soup.find_all(\"a\", class_= \"rubric_title\")\n",
        "  for tem in tems:\n",
        "    links.append(tem.get('href'))\n",
        "    cont_tems.append(tem.text)\n"
      ],
      "metadata": {
        "id": "DqJibMEYvGkl"
      },
      "execution_count": null,
      "outputs": []
    },
    {
      "cell_type": "markdown",
      "source": [
        "Объединение 3х функций в парсер\n"
      ],
      "metadata": {
        "id": "KrE3kqynsI0F"
      }
    },
    {
      "cell_type": "code",
      "source": [
        "def pars(url, first_tem_num, answers, qeses, urls, tem_nums, tems, links1_v, links2_v):\n",
        "  pre_links1 = []\n",
        "  par_tem1_str(url, pre_links1, tems)\n",
        "\n",
        "  links1 = []\n",
        "  for i in range(len(pre_links1)):\n",
        "    links1.append('https://cbr.ru' + pre_links1[i])\n",
        "  links1_v.append(links1)\n",
        "\n",
        "  h = first_tem_num#счётчик для тем\n",
        "  for link1 in links1:\n",
        "    links1_v.append(link1)#для проверки\n",
        "    par_qes_str(link1, h, answers, qeses, urls, tem_nums)\n",
        "\n",
        "\n",
        "    pre_links2 = []\n",
        "    par_tem2_str(link1, pre_links2)\n",
        "\n",
        "    links2 = []\n",
        "    for i in range(len(pre_links2)):\n",
        "      links2.append('https://cbr.ru' + pre_links2[i])\n",
        "\n",
        "\n",
        "    for link2 in links2:\n",
        "      links2_v.append(link2)#для проверки\n",
        "      par_qes_str(link2, h, answers, qeses, urls, tem_nums)\n",
        "\n",
        "    h = h+1\n",
        "\n",
        "\n",
        "\n"
      ],
      "metadata": {
        "id": "_PwikE0euPL3"
      },
      "execution_count": null,
      "outputs": []
    },
    {
      "cell_type": "code",
      "source": [
        "A = []\n",
        "Q = []\n",
        "U = []\n",
        "T_N = []\n",
        "T = []\n",
        "l1 = []\n",
        "l2 = []\n",
        "pars('https://cbr.ru/faq/',0, A, Q, U, T_N, T, l1, l2)"
      ],
      "metadata": {
        "id": "sbQIR3SS0Yf4"
      },
      "execution_count": null,
      "outputs": []
    },
    {
      "cell_type": "code",
      "source": [
        "#Результаты прохода по начальной ссылке - https://cbr.ru/faq/:\n",
        "print(\"кол-во ответов:  \",len(A), \"    кол-во вопросов:  \", len(Q), \"    кол-во ссылок:  \", len(U), \"    кол-во номеров тем:  \", len(T_N), \"    кол-во тем:  \", len(T))\n"
      ],
      "metadata": {
        "colab": {
          "base_uri": "https://localhost:8080/"
        },
        "id": "d_2UTs7O88nw",
        "outputId": "fb5b842c-30ca-4627-e714-2ac77a579f46"
      },
      "execution_count": null,
      "outputs": [
        {
          "output_type": "stream",
          "name": "stdout",
          "text": [
            "кол-во ответов:   706     кол-во вопросов:   706     кол-во ссылок:   706     кол-во номеров тем:   706     кол-во тем:   19\n"
          ]
        }
      ]
    },
    {
      "cell_type": "code",
      "source": [
        "# пройдёмся по ссылке - https://cbr.ru/explan/:\n",
        "f_n = len(T)\n",
        "pars('https://cbr.ru/explan/', f_n, A, Q, U, T_N, T, l1, l2)"
      ],
      "metadata": {
        "id": "3WYe9MXY-Wvm"
      },
      "execution_count": null,
      "outputs": []
    },
    {
      "cell_type": "code",
      "source": [
        "#Результаты прохода по начальной ссылке - https://cbr.ru/explan/:\n",
        "print(\"кол-во ответов:  \",len(A) -706, \"    кол-во вопросов:  \", len(Q) - 706, \"    кол-во ссылок:  \", len(U) - 706, \"    кол-во номеров тем:  \", len(T_N) - 706, \"    кол-во тем:  \", len(T) - 19)"
      ],
      "metadata": {
        "colab": {
          "base_uri": "https://localhost:8080/"
        },
        "id": "KxYaNEIL_kCj",
        "outputId": "f0fe5aa4-7e0d-43ed-b5f1-9907082244ac"
      },
      "execution_count": null,
      "outputs": [
        {
          "output_type": "stream",
          "name": "stdout",
          "text": [
            "кол-во ответов:   4490     кол-во вопросов:   4490     кол-во ссылок:   4490     кол-во номеров тем:   4490     кол-во тем:   78\n"
          ]
        }
      ]
    },
    {
      "cell_type": "code",
      "source": [
        "#всего по проходу по 2м ссылкам:\n",
        "print(\"кол-во ответов:  \",len(A), \"    кол-во вопросов:  \", len(Q), \"    кол-во ссылок:  \", len(U), \"    кол-во номеров тем:  \", len(T_N), \"    кол-во тем:  \", len(T))"
      ],
      "metadata": {
        "colab": {
          "base_uri": "https://localhost:8080/"
        },
        "id": "8nActOw0_tOF",
        "outputId": "06e23a3e-1da9-49fe-b396-0a4977c66173"
      },
      "execution_count": null,
      "outputs": [
        {
          "output_type": "stream",
          "name": "stdout",
          "text": [
            "кол-во ответов:   5196     кол-во вопросов:   5196     кол-во ссылок:   5196     кол-во номеров тем:   5196     кол-во тем:   97\n"
          ]
        }
      ]
    },
    {
      "cell_type": "code",
      "source": [
        "import pandas as pd\n",
        "data = []\n",
        "A1 = [line.strip() for line in A]\n",
        "Q1 = [line.strip() for line in Q]\n",
        "U1 = [line.strip() for line in U]\n",
        "name_T = []\n",
        "for i in range(len(T_N)):\n",
        "  name_T.append(T[T_N[i]])\n",
        "\n",
        "data.append(Q1)\n",
        "data.append(A1)\n",
        "data.append(U1)\n",
        "data.append(T_N)\n",
        "data.append(name_T)\n",
        "\n",
        "df = pd.DataFrame(data).transpose()\n",
        "df.columns =['QUE', 'ANS', 'Urls', 'NUM_TEM', 'NAME_TEM']\n",
        "df"
      ],
      "metadata": {
        "colab": {
          "base_uri": "https://localhost:8080/",
          "height": 1000
        },
        "id": "naCTt48yBVTw",
        "outputId": "4a4770be-0df6-40d6-ba6f-4d1bb6344e60"
      },
      "execution_count": null,
      "outputs": [
        {
          "output_type": "execute_result",
          "data": {
            "text/plain": [
              "                                                    QUE  \\\n",
              "0     Почему Банк России не хранил золотовалютные ре...   \n",
              "1     Можно ли было сделать что-нибудь, чтобы часть ...   \n",
              "2     Правда ли, что Банк России вывез золото из зол...   \n",
              "3     Как иностранные ценные бумаги, приобретенные н...   \n",
              "4     Каким образом иностранные ценные бумаги, купле...   \n",
              "...                                                 ...   \n",
              "5191  Как рассчитать ПСВ по договору банковского сче...   \n",
              "5192  Возможно ли отнесение договоров банковского сч...   \n",
              "5193  Для определения значения показателя «D» в форм...   \n",
              "5194  Если в течение отчетного месяца было изменение...   \n",
              "5195  По условиям договора банковского счета начисле...   \n",
              "\n",
              "                                                    ANS  \\\n",
              "0     Золотовалютные резервы — это инструмент, за сч...   \n",
              "1     Такого способа нет. Безналичная валюта всегда ...   \n",
              "2     Нет, это неправда. Все золото из наших золотов...   \n",
              "3     Российский брокер (депозитарий), клиентом кото...   \n",
              "4     Это произошло из-за перевода клиентов к другим...   \n",
              "...                                                 ...   \n",
              "5191  При расчете ПСВ по договору банковского счета ...   \n",
              "5192  Нет. По общему правилу договор банковского сче...   \n",
              "5193  Для расчета ПСВ при изменении или продлении до...   \n",
              "5194  Да. В расчет ПСВ принимается остаток средств, ...   \n",
              "5195  Да. Для целей расчета ПСВ по договорам банковс...   \n",
              "\n",
              "                                                   Urls NUM_TEM  \\\n",
              "0     http://www.cbr.ru/Reception/TopicalMessage/Pag...       0   \n",
              "1     http://www.cbr.ru/Reception/TopicalMessage/Pag...       0   \n",
              "2     http://www.cbr.ru/Reception/TopicalMessage/Pag...       0   \n",
              "3     http://www.cbr.ru/Reception/TopicalMessage/Pag...       0   \n",
              "4     http://www.cbr.ru/Reception/TopicalMessage/Pag...       0   \n",
              "...                                                 ...     ...   \n",
              "5191  http://www.cbr.ru/Reception/TopicalMessage/Pag...      96   \n",
              "5192  http://www.cbr.ru/Reception/TopicalMessage/Pag...      96   \n",
              "5193  http://www.cbr.ru/Reception/TopicalMessage/Pag...      96   \n",
              "5194  http://www.cbr.ru/Reception/TopicalMessage/Pag...      96   \n",
              "5195  http://www.cbr.ru/Reception/TopicalMessage/Pag...      96   \n",
              "\n",
              "                                               NAME_TEM  \n",
              "0          Актуальные вопросы работы финансовой системы  \n",
              "1          Актуальные вопросы работы финансовой системы  \n",
              "2          Актуальные вопросы работы финансовой системы  \n",
              "3          Актуальные вопросы работы финансовой системы  \n",
              "4          Актуальные вопросы работы финансовой системы  \n",
              "...                                                 ...  \n",
              "5191  Расчет полной стоимости вклада (ПСВ) в соответ...  \n",
              "5192  Расчет полной стоимости вклада (ПСВ) в соответ...  \n",
              "5193  Расчет полной стоимости вклада (ПСВ) в соответ...  \n",
              "5194  Расчет полной стоимости вклада (ПСВ) в соответ...  \n",
              "5195  Расчет полной стоимости вклада (ПСВ) в соответ...  \n",
              "\n",
              "[5196 rows x 5 columns]"
            ],
            "text/html": [
              "\n",
              "  <div id=\"df-26dc2f85-06e5-48a0-a0b2-80914ac09b93\" class=\"colab-df-container\">\n",
              "    <div>\n",
              "<style scoped>\n",
              "    .dataframe tbody tr th:only-of-type {\n",
              "        vertical-align: middle;\n",
              "    }\n",
              "\n",
              "    .dataframe tbody tr th {\n",
              "        vertical-align: top;\n",
              "    }\n",
              "\n",
              "    .dataframe thead th {\n",
              "        text-align: right;\n",
              "    }\n",
              "</style>\n",
              "<table border=\"1\" class=\"dataframe\">\n",
              "  <thead>\n",
              "    <tr style=\"text-align: right;\">\n",
              "      <th></th>\n",
              "      <th>QUE</th>\n",
              "      <th>ANS</th>\n",
              "      <th>Urls</th>\n",
              "      <th>NUM_TEM</th>\n",
              "      <th>NAME_TEM</th>\n",
              "    </tr>\n",
              "  </thead>\n",
              "  <tbody>\n",
              "    <tr>\n",
              "      <th>0</th>\n",
              "      <td>Почему Банк России не хранил золотовалютные ре...</td>\n",
              "      <td>Золотовалютные резервы — это инструмент, за сч...</td>\n",
              "      <td>http://www.cbr.ru/Reception/TopicalMessage/Pag...</td>\n",
              "      <td>0</td>\n",
              "      <td>Актуальные вопросы работы финансовой системы</td>\n",
              "    </tr>\n",
              "    <tr>\n",
              "      <th>1</th>\n",
              "      <td>Можно ли было сделать что-нибудь, чтобы часть ...</td>\n",
              "      <td>Такого способа нет. Безналичная валюта всегда ...</td>\n",
              "      <td>http://www.cbr.ru/Reception/TopicalMessage/Pag...</td>\n",
              "      <td>0</td>\n",
              "      <td>Актуальные вопросы работы финансовой системы</td>\n",
              "    </tr>\n",
              "    <tr>\n",
              "      <th>2</th>\n",
              "      <td>Правда ли, что Банк России вывез золото из зол...</td>\n",
              "      <td>Нет, это неправда. Все золото из наших золотов...</td>\n",
              "      <td>http://www.cbr.ru/Reception/TopicalMessage/Pag...</td>\n",
              "      <td>0</td>\n",
              "      <td>Актуальные вопросы работы финансовой системы</td>\n",
              "    </tr>\n",
              "    <tr>\n",
              "      <th>3</th>\n",
              "      <td>Как иностранные ценные бумаги, приобретенные н...</td>\n",
              "      <td>Российский брокер (депозитарий), клиентом кото...</td>\n",
              "      <td>http://www.cbr.ru/Reception/TopicalMessage/Pag...</td>\n",
              "      <td>0</td>\n",
              "      <td>Актуальные вопросы работы финансовой системы</td>\n",
              "    </tr>\n",
              "    <tr>\n",
              "      <th>4</th>\n",
              "      <td>Каким образом иностранные ценные бумаги, купле...</td>\n",
              "      <td>Это произошло из-за перевода клиентов к другим...</td>\n",
              "      <td>http://www.cbr.ru/Reception/TopicalMessage/Pag...</td>\n",
              "      <td>0</td>\n",
              "      <td>Актуальные вопросы работы финансовой системы</td>\n",
              "    </tr>\n",
              "    <tr>\n",
              "      <th>...</th>\n",
              "      <td>...</td>\n",
              "      <td>...</td>\n",
              "      <td>...</td>\n",
              "      <td>...</td>\n",
              "      <td>...</td>\n",
              "    </tr>\n",
              "    <tr>\n",
              "      <th>5191</th>\n",
              "      <td>Как рассчитать ПСВ по договору банковского сче...</td>\n",
              "      <td>При расчете ПСВ по договору банковского счета ...</td>\n",
              "      <td>http://www.cbr.ru/Reception/TopicalMessage/Pag...</td>\n",
              "      <td>96</td>\n",
              "      <td>Расчет полной стоимости вклада (ПСВ) в соответ...</td>\n",
              "    </tr>\n",
              "    <tr>\n",
              "      <th>5192</th>\n",
              "      <td>Возможно ли отнесение договоров банковского сч...</td>\n",
              "      <td>Нет. По общему правилу договор банковского сче...</td>\n",
              "      <td>http://www.cbr.ru/Reception/TopicalMessage/Pag...</td>\n",
              "      <td>96</td>\n",
              "      <td>Расчет полной стоимости вклада (ПСВ) в соответ...</td>\n",
              "    </tr>\n",
              "    <tr>\n",
              "      <th>5193</th>\n",
              "      <td>Для определения значения показателя «D» в форм...</td>\n",
              "      <td>Для расчета ПСВ при изменении или продлении до...</td>\n",
              "      <td>http://www.cbr.ru/Reception/TopicalMessage/Pag...</td>\n",
              "      <td>96</td>\n",
              "      <td>Расчет полной стоимости вклада (ПСВ) в соответ...</td>\n",
              "    </tr>\n",
              "    <tr>\n",
              "      <th>5194</th>\n",
              "      <td>Если в течение отчетного месяца было изменение...</td>\n",
              "      <td>Да. В расчет ПСВ принимается остаток средств, ...</td>\n",
              "      <td>http://www.cbr.ru/Reception/TopicalMessage/Pag...</td>\n",
              "      <td>96</td>\n",
              "      <td>Расчет полной стоимости вклада (ПСВ) в соответ...</td>\n",
              "    </tr>\n",
              "    <tr>\n",
              "      <th>5195</th>\n",
              "      <td>По условиям договора банковского счета начисле...</td>\n",
              "      <td>Да. Для целей расчета ПСВ по договорам банковс...</td>\n",
              "      <td>http://www.cbr.ru/Reception/TopicalMessage/Pag...</td>\n",
              "      <td>96</td>\n",
              "      <td>Расчет полной стоимости вклада (ПСВ) в соответ...</td>\n",
              "    </tr>\n",
              "  </tbody>\n",
              "</table>\n",
              "<p>5196 rows × 5 columns</p>\n",
              "</div>\n",
              "    <div class=\"colab-df-buttons\">\n",
              "\n",
              "  <div class=\"colab-df-container\">\n",
              "    <button class=\"colab-df-convert\" onclick=\"convertToInteractive('df-26dc2f85-06e5-48a0-a0b2-80914ac09b93')\"\n",
              "            title=\"Convert this dataframe to an interactive table.\"\n",
              "            style=\"display:none;\">\n",
              "\n",
              "  <svg xmlns=\"http://www.w3.org/2000/svg\" height=\"24px\" viewBox=\"0 -960 960 960\">\n",
              "    <path d=\"M120-120v-720h720v720H120Zm60-500h600v-160H180v160Zm220 220h160v-160H400v160Zm0 220h160v-160H400v160ZM180-400h160v-160H180v160Zm440 0h160v-160H620v160ZM180-180h160v-160H180v160Zm440 0h160v-160H620v160Z\"/>\n",
              "  </svg>\n",
              "    </button>\n",
              "\n",
              "  <style>\n",
              "    .colab-df-container {\n",
              "      display:flex;\n",
              "      gap: 12px;\n",
              "    }\n",
              "\n",
              "    .colab-df-convert {\n",
              "      background-color: #E8F0FE;\n",
              "      border: none;\n",
              "      border-radius: 50%;\n",
              "      cursor: pointer;\n",
              "      display: none;\n",
              "      fill: #1967D2;\n",
              "      height: 32px;\n",
              "      padding: 0 0 0 0;\n",
              "      width: 32px;\n",
              "    }\n",
              "\n",
              "    .colab-df-convert:hover {\n",
              "      background-color: #E2EBFA;\n",
              "      box-shadow: 0px 1px 2px rgba(60, 64, 67, 0.3), 0px 1px 3px 1px rgba(60, 64, 67, 0.15);\n",
              "      fill: #174EA6;\n",
              "    }\n",
              "\n",
              "    .colab-df-buttons div {\n",
              "      margin-bottom: 4px;\n",
              "    }\n",
              "\n",
              "    [theme=dark] .colab-df-convert {\n",
              "      background-color: #3B4455;\n",
              "      fill: #D2E3FC;\n",
              "    }\n",
              "\n",
              "    [theme=dark] .colab-df-convert:hover {\n",
              "      background-color: #434B5C;\n",
              "      box-shadow: 0px 1px 3px 1px rgba(0, 0, 0, 0.15);\n",
              "      filter: drop-shadow(0px 1px 2px rgba(0, 0, 0, 0.3));\n",
              "      fill: #FFFFFF;\n",
              "    }\n",
              "  </style>\n",
              "\n",
              "    <script>\n",
              "      const buttonEl =\n",
              "        document.querySelector('#df-26dc2f85-06e5-48a0-a0b2-80914ac09b93 button.colab-df-convert');\n",
              "      buttonEl.style.display =\n",
              "        google.colab.kernel.accessAllowed ? 'block' : 'none';\n",
              "\n",
              "      async function convertToInteractive(key) {\n",
              "        const element = document.querySelector('#df-26dc2f85-06e5-48a0-a0b2-80914ac09b93');\n",
              "        const dataTable =\n",
              "          await google.colab.kernel.invokeFunction('convertToInteractive',\n",
              "                                                    [key], {});\n",
              "        if (!dataTable) return;\n",
              "\n",
              "        const docLinkHtml = 'Like what you see? Visit the ' +\n",
              "          '<a target=\"_blank\" href=https://colab.research.google.com/notebooks/data_table.ipynb>data table notebook</a>'\n",
              "          + ' to learn more about interactive tables.';\n",
              "        element.innerHTML = '';\n",
              "        dataTable['output_type'] = 'display_data';\n",
              "        await google.colab.output.renderOutput(dataTable, element);\n",
              "        const docLink = document.createElement('div');\n",
              "        docLink.innerHTML = docLinkHtml;\n",
              "        element.appendChild(docLink);\n",
              "      }\n",
              "    </script>\n",
              "  </div>\n",
              "\n",
              "\n",
              "<div id=\"df-baf2bc1a-7633-477d-9ec8-e4f3c0b69bf7\">\n",
              "  <button class=\"colab-df-quickchart\" onclick=\"quickchart('df-baf2bc1a-7633-477d-9ec8-e4f3c0b69bf7')\"\n",
              "            title=\"Suggest charts\"\n",
              "            style=\"display:none;\">\n",
              "\n",
              "<svg xmlns=\"http://www.w3.org/2000/svg\" height=\"24px\"viewBox=\"0 0 24 24\"\n",
              "     width=\"24px\">\n",
              "    <g>\n",
              "        <path d=\"M19 3H5c-1.1 0-2 .9-2 2v14c0 1.1.9 2 2 2h14c1.1 0 2-.9 2-2V5c0-1.1-.9-2-2-2zM9 17H7v-7h2v7zm4 0h-2V7h2v10zm4 0h-2v-4h2v4z\"/>\n",
              "    </g>\n",
              "</svg>\n",
              "  </button>\n",
              "\n",
              "<style>\n",
              "  .colab-df-quickchart {\n",
              "      --bg-color: #E8F0FE;\n",
              "      --fill-color: #1967D2;\n",
              "      --hover-bg-color: #E2EBFA;\n",
              "      --hover-fill-color: #174EA6;\n",
              "      --disabled-fill-color: #AAA;\n",
              "      --disabled-bg-color: #DDD;\n",
              "  }\n",
              "\n",
              "  [theme=dark] .colab-df-quickchart {\n",
              "      --bg-color: #3B4455;\n",
              "      --fill-color: #D2E3FC;\n",
              "      --hover-bg-color: #434B5C;\n",
              "      --hover-fill-color: #FFFFFF;\n",
              "      --disabled-bg-color: #3B4455;\n",
              "      --disabled-fill-color: #666;\n",
              "  }\n",
              "\n",
              "  .colab-df-quickchart {\n",
              "    background-color: var(--bg-color);\n",
              "    border: none;\n",
              "    border-radius: 50%;\n",
              "    cursor: pointer;\n",
              "    display: none;\n",
              "    fill: var(--fill-color);\n",
              "    height: 32px;\n",
              "    padding: 0;\n",
              "    width: 32px;\n",
              "  }\n",
              "\n",
              "  .colab-df-quickchart:hover {\n",
              "    background-color: var(--hover-bg-color);\n",
              "    box-shadow: 0 1px 2px rgba(60, 64, 67, 0.3), 0 1px 3px 1px rgba(60, 64, 67, 0.15);\n",
              "    fill: var(--button-hover-fill-color);\n",
              "  }\n",
              "\n",
              "  .colab-df-quickchart-complete:disabled,\n",
              "  .colab-df-quickchart-complete:disabled:hover {\n",
              "    background-color: var(--disabled-bg-color);\n",
              "    fill: var(--disabled-fill-color);\n",
              "    box-shadow: none;\n",
              "  }\n",
              "\n",
              "  .colab-df-spinner {\n",
              "    border: 2px solid var(--fill-color);\n",
              "    border-color: transparent;\n",
              "    border-bottom-color: var(--fill-color);\n",
              "    animation:\n",
              "      spin 1s steps(1) infinite;\n",
              "  }\n",
              "\n",
              "  @keyframes spin {\n",
              "    0% {\n",
              "      border-color: transparent;\n",
              "      border-bottom-color: var(--fill-color);\n",
              "      border-left-color: var(--fill-color);\n",
              "    }\n",
              "    20% {\n",
              "      border-color: transparent;\n",
              "      border-left-color: var(--fill-color);\n",
              "      border-top-color: var(--fill-color);\n",
              "    }\n",
              "    30% {\n",
              "      border-color: transparent;\n",
              "      border-left-color: var(--fill-color);\n",
              "      border-top-color: var(--fill-color);\n",
              "      border-right-color: var(--fill-color);\n",
              "    }\n",
              "    40% {\n",
              "      border-color: transparent;\n",
              "      border-right-color: var(--fill-color);\n",
              "      border-top-color: var(--fill-color);\n",
              "    }\n",
              "    60% {\n",
              "      border-color: transparent;\n",
              "      border-right-color: var(--fill-color);\n",
              "    }\n",
              "    80% {\n",
              "      border-color: transparent;\n",
              "      border-right-color: var(--fill-color);\n",
              "      border-bottom-color: var(--fill-color);\n",
              "    }\n",
              "    90% {\n",
              "      border-color: transparent;\n",
              "      border-bottom-color: var(--fill-color);\n",
              "    }\n",
              "  }\n",
              "</style>\n",
              "\n",
              "  <script>\n",
              "    async function quickchart(key) {\n",
              "      const quickchartButtonEl =\n",
              "        document.querySelector('#' + key + ' button');\n",
              "      quickchartButtonEl.disabled = true;  // To prevent multiple clicks.\n",
              "      quickchartButtonEl.classList.add('colab-df-spinner');\n",
              "      try {\n",
              "        const charts = await google.colab.kernel.invokeFunction(\n",
              "            'suggestCharts', [key], {});\n",
              "      } catch (error) {\n",
              "        console.error('Error during call to suggestCharts:', error);\n",
              "      }\n",
              "      quickchartButtonEl.classList.remove('colab-df-spinner');\n",
              "      quickchartButtonEl.classList.add('colab-df-quickchart-complete');\n",
              "    }\n",
              "    (() => {\n",
              "      let quickchartButtonEl =\n",
              "        document.querySelector('#df-baf2bc1a-7633-477d-9ec8-e4f3c0b69bf7 button');\n",
              "      quickchartButtonEl.style.display =\n",
              "        google.colab.kernel.accessAllowed ? 'block' : 'none';\n",
              "    })();\n",
              "  </script>\n",
              "</div>\n",
              "    </div>\n",
              "  </div>\n"
            ],
            "application/vnd.google.colaboratory.intrinsic+json": {
              "type": "dataframe",
              "variable_name": "df",
              "summary": "{\n  \"name\": \"df\",\n  \"rows\": 5196,\n  \"fields\": [\n    {\n      \"column\": \"QUE\",\n      \"properties\": {\n        \"dtype\": \"string\",\n        \"num_unique_values\": 4923,\n        \"samples\": [\n          \"\\u041a\\u0443\\u0434\\u0430 \\u043e\\u0431\\u0440\\u0430\\u0449\\u0430\\u0442\\u044c\\u0441\\u044f \\u043f\\u043e\\u0442\\u0435\\u0440\\u043f\\u0435\\u0432\\u0448\\u0435\\u043c\\u0443 \\u0434\\u043b\\u044f\\u00a0\\u043f\\u043e\\u043b\\u0443\\u0447\\u0435\\u043d\\u0438\\u044f \\u0441\\u0442\\u0440\\u0430\\u0445\\u043e\\u0432\\u043e\\u0439 \\u0432\\u044b\\u043f\\u043b\\u0430\\u0442\\u044b \\u043f\\u043e\\u00a0\\u041e\\u0421\\u0410\\u0413\\u041e \\u0432\\u00a0\\u0441\\u043b\\u0443\\u0447\\u0430\\u0435 \\u043f\\u0440\\u0438\\u043e\\u0441\\u0442\\u0430\\u043d\\u043e\\u0432\\u043b\\u0435\\u043d\\u0438\\u044f/\\u043e\\u0433\\u0440\\u0430\\u043d\\u0438\\u0447\\u0435\\u043d\\u0438\\u044f \\u0434\\u0435\\u0439\\u0441\\u0442\\u0432\\u0438\\u044f \\u043b\\u0438\\u0446\\u0435\\u043d\\u0437\\u0438\\u0438 \\u0441\\u0442\\u0440\\u0430\\u0445\\u043e\\u0432\\u043e\\u0439 \\u043e\\u0440\\u0433\\u0430\\u043d\\u0438\\u0437\\u0430\\u0446\\u0438\\u0438?\",\n          \"\\u0412\\u043e\\u0437\\u043c\\u043e\\u0436\\u043d\\u043e\\u00a0\\u043b\\u0438 \\u043e\\u0442\\u043d\\u0435\\u0441\\u0435\\u043d\\u0438\\u0435 \\u0434\\u043e\\u0433\\u043e\\u0432\\u043e\\u0440\\u043e\\u0432 \\u0431\\u0430\\u043d\\u043a\\u043e\\u0432\\u0441\\u043a\\u043e\\u0433\\u043e \\u0441\\u0447\\u0435\\u0442\\u0430 \\u043a\\u00a0\\u043a\\u0430\\u0442\\u0435\\u0433\\u043e\\u0440\\u0438\\u0438 \\u0441\\u0440\\u043e\\u0447\\u043d\\u043e\\u0441\\u0442\\u0438 \\u043e\\u0442\\u043b\\u0438\\u0447\\u043d\\u043e\\u0439 \\u043e\\u0442\\u00a0\\u043a\\u0430\\u0442\\u0435\\u0433\\u043e\\u0440\\u0438\\u0438 \\u00ab\\u0434\\u043e\\u00a0\\u0432\\u043e\\u0441\\u0442\\u0440\\u0435\\u0431\\u043e\\u0432\\u0430\\u043d\\u0438\\u044f\\u00bb \\u0432\\u00a0\\u0441\\u043b\\u0443\\u0447\\u0430\\u0435 \\u0435\\u0441\\u043b\\u0438 \\u043f\\u0440\\u043e\\u0446\\u0435\\u043d\\u0442\\u044b \\u043f\\u043e\\u00a0\\u0442\\u0430\\u043a\\u0438\\u043c \\u0434\\u043e\\u0433\\u043e\\u0432\\u043e\\u0440\\u0430\\u043c \\u043d\\u0430\\u0447\\u0438\\u0441\\u043b\\u044f\\u044e\\u0442\\u0441\\u044f \\u0438\\u00a0\\u0432\\u044b\\u043f\\u043b\\u0430\\u0447\\u0438\\u0432\\u0430\\u044e\\u0442\\u0441\\u044f \\u0432\\u00a0\\u0437\\u0430\\u0432\\u0438\\u0441\\u0438\\u043c\\u043e\\u0441\\u0442\\u0438 \\u043e\\u0442\\u00a0\\u0441\\u0440\\u043e\\u043a\\u0430 \\u0445\\u0440\\u0430\\u043d\\u0435\\u043d\\u0438\\u044f \\u0440\\u0430\\u0437\\u043c\\u0435\\u0449\\u0435\\u043d\\u043d\\u044b\\u0445 \\u043d\\u0430\\u00a0\\u0441\\u0447\\u0435\\u0442\\u0435 \\u0441\\u0440\\u0435\\u0434\\u0441\\u0442\\u0432?\",\n          \"\\u0412\\u043e\\u0437\\u043c\\u043e\\u0436\\u043d\\u043e\\u00a0\\u043b\\u0438 \\u043f\\u0440\\u0435\\u0434\\u0432\\u0430\\u0440\\u0438\\u0442\\u0435\\u043b\\u044c\\u043d\\u043e\\u0435 \\u0440\\u0430\\u0441\\u0441\\u043c\\u043e\\u0442\\u0440\\u0435\\u043d\\u0438\\u0435 \\u0434\\u043e\\u043a\\u0443\\u043c\\u0435\\u043d\\u0442\\u043e\\u0432 \\u0411\\u0430\\u043d\\u043a\\u043e\\u043c \\u0420\\u043e\\u0441\\u0441\\u0438\\u0438 \\u0432\\u00a0\\u0441\\u043b\\u0443\\u0447\\u0430\\u0435 \\u043f\\u043b\\u0430\\u043d\\u0438\\u0440\\u0443\\u0435\\u043c\\u043e\\u0439 \\u0440\\u0435\\u043e\\u0440\\u0433\\u0430\\u043d\\u0438\\u0437\\u0430\\u0446\\u0438\\u0438 \\u043a\\u0440\\u0435\\u0434\\u0438\\u0442\\u043d\\u043e\\u0439 \\u043e\\u0440\\u0433\\u0430\\u043d\\u0438\\u0437\\u0430\\u0446\\u0438\\u0438?\"\n        ],\n        \"semantic_type\": \"\",\n        \"description\": \"\"\n      }\n    },\n    {\n      \"column\": \"ANS\",\n      \"properties\": {\n        \"dtype\": \"string\",\n        \"num_unique_values\": 4955,\n        \"samples\": [\n          \"\\u0412\\u00a0\\u0441\\u043e\\u043e\\u0442\\u0432\\u0435\\u0442\\u0441\\u0442\\u0432\\u0438\\u0438 \\u0441\\u00a0\\u043f\\u0443\\u043d\\u043a\\u0442\\u043e\\u043c 2\\u00a0\\u041f\\u043e\\u0440\\u044f\\u0434\\u043a\\u0430 \\u0441\\u043e\\u0441\\u0442\\u0430\\u0432\\u043b\\u0435\\u043d\\u0438\\u044f \\u0438\\u00a0\\u043f\\u0440\\u0435\\u0434\\u0441\\u0442\\u0430\\u0432\\u043b\\u0435\\u043d\\u0438\\u044f \\u043e\\u0442\\u0447\\u0435\\u0442\\u043d\\u043e\\u0441\\u0442\\u0438 \\u043f\\u043e\\u00a0\\u0444\\u043e\\u0440\\u043c\\u0435 0420890\\u00a0\\u0432 \\u043f\\u043e\\u0434\\u0440\\u0430\\u0437\\u0434\\u0435\\u043b\\u0435 1\\u00a0\\u0440\\u0430\\u0437\\u0434\\u0435\\u043b\\u0430\\u00a0I \\u0444\\u043e\\u0440\\u043c\\u044b 0420890 \\u0443\\u043a\\u0430\\u0437\\u044b\\u0432\\u0430\\u044e\\u0442\\u0441\\u044f \\u0430\\u0434\\u0440\\u0435\\u0441\\u0430 \\u0432\\u0441\\u0435\\u0445 \\u0441\\u0430\\u0439\\u0442\\u043e\\u0432 \\u0432\\u00a0\\u0441\\u0435\\u0442\\u0438 \\u0418\\u043d\\u0442\\u0435\\u0440\\u043d\\u0435\\u0442, \\u0434\\u043e\\u043c\\u0435\\u043d\\u043d\\u044b\\u043c\\u0438 \\u0438\\u043c\\u0435\\u043d\\u0430\\u043c\\u0438 \\u043a\\u043e\\u0442\\u043e\\u0440\\u044b\\u0445 \\u043b\\u043e\\u043c\\u0431\\u0430\\u0440\\u0434 \\u043e\\u0431\\u043b\\u0430\\u0434\\u0430\\u0435\\u0442 \\u043d\\u0430\\u00a0\\u043f\\u0440\\u0430\\u0432\\u0430\\u0445 \\u0430\\u0434\\u043c\\u0438\\u043d\\u0438\\u0441\\u0442\\u0440\\u0438\\u0440\\u043e\\u0432\\u0430\\u043d\\u0438\\u044f (\\u0438\\u0441\\u043f\\u043e\\u043b\\u044c\\u0437\\u043e\\u0432\\u0430\\u043d\\u0438\\u044f). \\u0422\\u0430\\u043a\\u0438\\u043c \\u043e\\u0431\\u0440\\u0430\\u0437\\u043e\\u043c, \\u0430\\u0434\\u0440\\u0435\\u0441 \\u0441\\u0430\\u0439\\u0442\\u0430, \\u043d\\u0430\\u00a0\\u043a\\u043e\\u0442\\u043e\\u0440\\u043e\\u043c \\u0440\\u0430\\u0437\\u043c\\u0435\\u0449\\u0430\\u044e\\u0442\\u0441\\u044f \\u0440\\u0435\\u043a\\u043b\\u0430\\u043c\\u043d\\u043e-\\u0438\\u043d\\u0444\\u043e\\u0440\\u043c\\u0430\\u0446\\u0438\\u043e\\u043d\\u043d\\u044b\\u0435 \\u0441\\u0432\\u0435\\u0434\\u0435\\u043d\\u0438\\u044f \\u043b\\u043e\\u043c\\u0431\\u0430\\u0440\\u0434\\u0430, \\u043d\\u0435\\u00a0\\u0443\\u043a\\u0430\\u0437\\u044b\\u0432\\u0430\\u0435\\u0442\\u0441\\u044f \\u0432\\u00a0\\u043f\\u043e\\u0434\\u0440\\u0430\\u0437\\u0434\\u0435\\u043b\\u0435 1\\u00a0\\u0440\\u0430\\u0437\\u0434\\u0435\\u043b\\u0430\\u00a0I \\u0444\\u043e\\u0440\\u043c\\u044b 0420890, \\u0435\\u0441\\u043b\\u0438 \\u043b\\u043e\\u043c\\u0431\\u0430\\u0440\\u0434 \\u043d\\u0435\\u00a0\\u043e\\u0431\\u043b\\u0430\\u0434\\u0430\\u0435\\u0442 \\u0434\\u043e\\u043c\\u0435\\u043d\\u043d\\u044b\\u043c \\u0438\\u043c\\u0435\\u043d\\u0435\\u043c \\u0441\\u0430\\u0439\\u0442\\u0430 \\u043d\\u0430\\u00a0\\u043f\\u0440\\u0430\\u0432\\u0430\\u0445 \\u0430\\u0434\\u043c\\u0438\\u043d\\u0438\\u0441\\u0442\\u0440\\u0438\\u0440\\u043e\\u0432\\u0430\\u043d\\u0438\\u044f (\\u0438\\u0441\\u043f\\u043e\\u043b\\u044c\\u0437\\u043e\\u0432\\u0430\\u043d\\u0438\\u044f).\",\n          \"\\u041d\\u0435\\u043e\\u0431\\u0445\\u043e\\u0434\\u0438\\u043c\\u043e \\u043f\\u0440\\u043e\\u0432\\u0435\\u0440\\u0438\\u0442\\u044c, \\u0447\\u0442\\u043e\\u00a0\\u043f\\u043b\\u0430\\u0433\\u0438\\u043d \\u0437\\u0430\\u0433\\u0440\\u0443\\u0436\\u0435\\u043d \\u0438\\u00a0\\u0443\\u0441\\u0442\\u0430\\u043d\\u043e\\u0432\\u043b\\u0435\\u043d \\u0441\\u00a0\\u043f\\u043e\\u0440\\u0442\\u0430\\u043b\\u0430 \\u0411\\u0430\\u043d\\u043a\\u0430 \\u0420\\u043e\\u0441\\u0441\\u0438\\u0438. \\u041f\\u0440\\u0438\\u00a0\\u043d\\u0435\\u043e\\u0431\\u0445\\u043e\\u0434\\u0438\\u043c\\u043e\\u0441\\u0442\\u0438 \\u043f\\u0435\\u0440\\u0435\\u0443\\u0441\\u0442\\u0430\\u043d\\u043e\\u0432\\u0438\\u0442\\u044c, \\u043f\\u043e\\u0447\\u0438\\u0441\\u0442\\u0438\\u0442\\u044c\\u00a0\\u043a\\u044d\\u0448. \\u0423\\u0431\\u0435\\u0434\\u0438\\u0442\\u044c\\u0441\\u044f, \\u0447\\u0442\\u043e\\u00a0\\u0432\\u00a0\\u043d\\u0430\\u0441\\u0442\\u0440\\u043e\\u0439\\u043a\\u0430\\u0445 \\u0431\\u0440\\u0430\\u0443\\u0437\\u0435\\u0440\\u0430 \\u0441\\u0430\\u043c\\u00a0\\u043f\\u043b\\u0430\\u0433\\u0438\\u043d \\u0432\\u043a\\u043b\\u044e\\u0447\\u0435\\u043d. \\u041f\\u0440\\u043e\\u0432\\u0435\\u0440\\u0438\\u0442\\u044c \\u043a\\u043e\\u0440\\u0440\\u0435\\u043a\\u0442\\u043d\\u043e\\u0441\\u0442\\u044c \\u0446\\u0435\\u043f\\u043e\\u0447\\u043a\\u0438 \\u0441\\u0435\\u0440\\u0442\\u0438\\u0444\\u0438\\u043a\\u0430\\u0442\\u043e\\u0432: \\u00ab\\u041f\\u0443\\u0441\\u043a\\u00bb\\u00a0\\u2014 \\u00ab\\u041a\\u0440\\u0438\\u043f\\u0442\\u043e-\\u041f\\u0420\\u041e\\u00bb\\u00a0\\u2014 \\u00ab\\u0421\\u0435\\u0440\\u0442\\u0438\\u0444\\u0438\\u043a\\u0430\\u0442\\u044b\\u00bb\\u00a0\\u2014 \\u00ab\\u0421\\u0435\\u0440\\u0442\\u0438\\u0444\\u0438\\u043a\\u0430\\u0442\\u044b\\u00a0\\u2014 \\u0442\\u0435\\u043a\\u0443\\u0449\\u0438\\u0439 \\u043f\\u043e\\u043b\\u044c\\u0437\\u043e\\u0432\\u0430\\u0442\\u0435\\u043b\\u044c\\u00bb\\u00a0\\u2014 \\u00ab\\u041b\\u0438\\u0447\\u043d\\u043e\\u0435\\u00bb. \\u0417\\u0430\\u0442\\u0435\\u043c \\u043e\\u0442\\u043a\\u0440\\u044b\\u0442\\u044c \\u0438\\u0441\\u043f\\u043e\\u043b\\u044c\\u0437\\u0443\\u0435\\u043c\\u044b\\u0439 \\u0441\\u0435\\u0440\\u0442\\u0438\\u0444\\u0438\\u043a\\u0430\\u0442 \\u0438\\u00a0\\u043d\\u0430\\u00a0\\u0432\\u043a\\u043b\\u0430\\u0434\\u043a\\u0435 \\u0441\\u0432\\u043e\\u0439\\u0441\\u0442\\u0432\\u0430 \\u0443\\u0431\\u0435\\u0434\\u0438\\u0442\\u044c\\u0441\\u044f, \\u0447\\u0442\\u043e\\u00a0\\u0438\\u043c\\u0435\\u0435\\u0442\\u0441\\u044f \\u0437\\u0430\\u043a\\u0440\\u044b\\u0442\\u044b\\u0439 \\u043a\\u043b\\u044e\\u0447, \\u0441\\u043e\\u043e\\u0442\\u0432\\u0435\\u0442\\u0441\\u0442\\u0432\\u0443\\u044e\\u0449\\u0438\\u0439 \\u0441\\u0435\\u0440\\u0442\\u0438\\u0444\\u0438\\u043a\\u0430\\u0442\\u0443. \\u0414\\u0430\\u043b\\u0435\\u0435 \\u043d\\u0430\\u00a0\\u0432\\u043a\\u043b\\u0430\\u0434\\u043a\\u0435 \\u00ab\\u041f\\u0443\\u0442\\u044c \\u0441\\u0435\\u0440\\u0442\\u0438\\u0444\\u0438\\u043a\\u0430\\u0446\\u0438\\u0438\\u00bb \\u043f\\u043e\\u0441\\u0442\\u0440\\u043e\\u0435\\u043d\\u0430 \\u043f\\u043e\\u043b\\u043d\\u0430\\u044f \\u0434\\u0435\\u0439\\u0441\\u0442\\u0432\\u0438\\u0442\\u0435\\u043b\\u044c\\u043d\\u0430\\u044f \\u0446\\u0435\\u043f\\u043e\\u0447\\u043a\\u0430 \\u0441\\u0435\\u0440\\u0442\\u0438\\u0444\\u0438\\u043a\\u0430\\u0442\\u043e\\u0432 \\u0434\\u043e\\u00a0\\u0433\\u043e\\u043b\\u043e\\u0432\\u043d\\u043e\\u0433\\u043e \\u0443\\u0434\\u043e\\u0441\\u0442\\u043e\\u0432\\u0435\\u0440\\u044f\\u044e\\u0449\\u0435\\u0433\\u043e \\u0446\\u0435\\u043d\\u0442\\u0440\\u0430. \\u041f\\u0440\\u043e\\u0446\\u0435\\u0441\\u0441 \\u043f\\u043e\\u043b\\u0443\\u0447\\u0435\\u043d\\u0438\\u044f \\u0438\\u00a0\\u0443\\u0441\\u0442\\u0430\\u043d\\u043e\\u0432\\u043a\\u0438 \\u0441\\u0435\\u0440\\u0442\\u0438\\u0444\\u0438\\u043a\\u0430\\u0442\\u0430\\u00a0\\u0423\\u0426, \\u0441\\u0435\\u0440\\u0442\\u0438\\u0444\\u0438\\u043a\\u0430\\u0442\\u0430 \\u0433\\u043e\\u043b\\u043e\\u0432\\u043d\\u043e\\u0433\\u043e\\u00a0\\u0423\\u0426 \\u0438\\u00a0\\u0438\\u0445\\u00a0\\u0441\\u043f\\u0438\\u0441\\u043a\\u043e\\u0432 \\u043e\\u0442\\u043e\\u0437\\u0432\\u0430\\u043d\\u043d\\u044b\\u0445 \\u0441\\u0435\\u0440\\u0442\\u0438\\u0444\\u0438\\u043a\\u0430\\u0442\\u043e\\u0432 \\u043e\\u043f\\u0438\\u0441\\u0430\\u043d \\u0432\\u00a0\\u0438\\u043d\\u0441\\u0442\\u0440\\u0443\\u043a\\u0446\\u0438\\u044f\\u0445 \\u043f\\u0440\\u043e\\u0438\\u0437\\u0432\\u043e\\u0434\\u0438\\u0442\\u0435\\u043b\\u044f \\u0438\\u0441\\u043f\\u043e\\u043b\\u044c\\u0437\\u0443\\u0435\\u043c\\u043e\\u0433\\u043e \\u0421\\u041f\\u041e\\u00a0, \\u0430\\u00a0\\u0442\\u0430\\u043a\\u0436\\u0435 \\u0432\\u00a0\\u043f\\u0440\\u0438\\u043b\\u043e\\u0436\\u0435\\u043d\\u0438\\u0438 \\u0411\\u00a0\\u00ab\\u0420\\u0443\\u043a\\u043e\\u0432\\u043e\\u0434\\u0441\\u0442\\u0432\\u0430 \\u043e\\u043f\\u0435\\u0440\\u0430\\u0442\\u043e\\u0440\\u0430\\u00bb.\\n\\u0412\\u00a0Google Chrome \\u043f\\u043e\\u0441\\u043b\\u0435 \\u0447\\u0438\\u0441\\u0442\\u043a\\u0438 \\u043a\\u044d\\u0448\\u0430 \\u0441\\u0435\\u0440\\u0442\\u0438\\u0444\\u0438\\u043a\\u0430\\u0442 \\u0434\\u043e\\u043b\\u0436\\u0435\\u043d \\u043e\\u0442\\u043e\\u0431\\u0440\\u0430\\u0436\\u0430\\u0442\\u044c\\u0441\\u044f. \\u0415\\u0441\\u043b\\u0438\\u00a0\\u043d\\u0435\\u0442, \\u043d\\u0443\\u0436\\u043d\\u043e \\u0437\\u0430\\u0439\\u0442\\u0438 \\u043d\\u0430\\u00a0\\u0442\\u0435\\u0441\\u0442\\u043e\\u0432\\u0443\\u044e \\u0441\\u0442\\u0440\\u0430\\u043d\\u0438\\u0446\\u0443 \\u041a\\u0440\\u0438\\u043f\\u0442\\u043e\\u041f\\u0440\\u043e \\u0438\\u00a0\\u043f\\u0440\\u043e\\u0432\\u0435\\u0440\\u0438\\u0442\\u044c, \\u043a\\u043e\\u0440\\u0440\\u0435\\u043a\\u0442\\u043d\\u043e\\u00a0\\u043b\\u0438 \\u0437\\u0434\\u0435\\u0441\\u044c \\u043e\\u0442\\u0440\\u0430\\u0431\\u0430\\u0442\\u044b\\u0432\\u0430\\u0435\\u0442 \\u043f\\u043b\\u0430\\u0433\\u0438\\u043d. \\u0415\\u0441\\u043b\\u0438 \\u0432\\u0441\\u0435\\u00a0\\u0443\\u0441\\u043b\\u043e\\u0432\\u0438\\u044f \\u043d\\u0435\\u00a0\\u0441\\u043e\\u0431\\u043b\\u044e\\u0434\\u0435\\u043d\\u044b \\u0438\\u00a0\\u043f\\u0440\\u0438\\u00a0\\u043d\\u0430\\u0436\\u0430\\u0442\\u0438\\u0438 \\u043a\\u043d\\u043e\\u043f\\u043a\\u0438 \\u00ab\\u041f\\u0440\\u0438\\u043a\\u0440\\u0435\\u043f\\u0438\\u0442\\u044c \\u0441\\u0435\\u0440\\u0442\\u0438\\u0444\\u0438\\u043a\\u0430\\u0442\\u00bb \\u043d\\u0438\\u0447\\u0435\\u0433\\u043e \\u043d\\u0435\\u00a0\\u043f\\u0440\\u043e\\u0438\\u0441\\u0445\\u043e\\u0434\\u0438\\u0442\\u00a0\\u2014 \\u043d\\u0430\\u043f\\u0440\\u0430\\u0432\\u0438\\u0442\\u044c \\u0432\\u00a0\\u0435\\u0434\\u0438\\u043d\\u0443\\u044e \\u0441\\u043b\\u0443\\u0436\\u0431\\u0443 \\u043f\\u043e\\u0434\\u0434\\u0435\\u0440\\u0436\\u043a\\u0438 \\u043f\\u043e\\u043b\\u044c\\u0437\\u043e\\u0432\\u0430\\u0442\\u0435\\u043b\\u0435\\u0439 (\\u0415\\u0421\\u041f\\u041f) \\u0441\\u043a\\u0440\\u0438\\u043d\\u0448\\u043e\\u0442 \\u043e\\u0442\\u043a\\u0440\\u044b\\u0442\\u043e\\u0439 \\u043a\\u043e\\u043d\\u0441\\u043e\\u043b\\u0438 (F12) \\u043f\\u043e\\u0441\\u043b\\u0435 \\u043d\\u0430\\u0436\\u0430\\u0442\\u0438\\u044f \\u043a\\u043d\\u043e\\u043f\\u043a\\u0438 \\u0432\\u044b\\u0431\\u043e\\u0440\\u0430 \\u0441\\u0435\\u0440\\u0442\\u0438\\u0444\\u0438\\u043a\\u0430\\u0442\\u0430.\",\n          \"\\u0412\\u00a0\\u0441\\u043b\\u0443\\u0447\\u0430\\u0435 \\u0435\\u0441\\u043b\\u0438 \\u0441\\u0442\\u0440\\u0430\\u0445\\u043e\\u0432\\u0449\\u0438\\u043a\\u043e\\u043c \\u0432\\u00a0\\u043e\\u0442\\u0447\\u0435\\u0442\\u043d\\u043e\\u043c \\u043f\\u0435\\u0440\\u0438\\u043e\\u0434\\u0435 \\u043d\\u0435\\u00a0\\u043e\\u0441\\u0443\\u0449\\u0435\\u0441\\u0442\\u0432\\u043b\\u0435\\u043d\\u044b \\u043e\\u043a\\u043e\\u043d\\u0447\\u0430\\u0442\\u0435\\u043b\\u044c\\u043d\\u044b\\u0435 \\u0441\\u0442\\u0440\\u0430\\u0445\\u043e\\u0432\\u044b\\u0435 \\u0432\\u044b\\u043f\\u043b\\u0430\\u0442\\u044b \\u0438\\u00a0\\u043d\\u0435\\u00a0\\u0434\\u0430\\u043d\\u044b \\u043e\\u0442\\u043a\\u0430\\u0437\\u044b \\u0432\\u00a0\\u0441\\u0442\\u0440\\u0430\\u0445\\u043e\\u0432\\u044b\\u0445 \\u0432\\u044b\\u043f\\u043b\\u0430\\u0442\\u0430\\u0445 \\u043f\\u043e\\u00a0\\u043e\\u0441\\u043d\\u043e\\u0432\\u0430\\u043d\\u0438\\u044f\\u043c, \\u0441\\u043e\\u0434\\u0435\\u0440\\u0436\\u0430\\u0449\\u0438\\u043c\\u0441\\u044f \\u0432\\u00a0\\u043f\\u0440\\u0438\\u043d\\u0438\\u043c\\u0430\\u0435\\u043c\\u044b\\u0445 \\u0438\\u00a0\\u0443\\u0442\\u0432\\u0435\\u0440\\u0436\\u0434\\u0430\\u0435\\u043c\\u044b\\u0445 \\u0441\\u0442\\u0440\\u0430\\u0445\\u043e\\u0432\\u0449\\u0438\\u043a\\u043e\\u043c \\u0438\\u043b\\u0438\\u00a0\\u043e\\u0431\\u044a\\u0435\\u0434\\u0438\\u043d\\u0435\\u043d\\u0438\\u0435\\u043c \\u0441\\u0442\\u0440\\u0430\\u0445\\u043e\\u0432\\u0449\\u0438\\u043a\\u043e\\u0432 \\u043f\\u0440\\u0430\\u0432\\u0438\\u043b\\u0430\\u0445 \\u0441\\u0442\\u0440\\u0430\\u0445\\u043e\\u0432\\u0430\\u043d\\u0438\\u044f, \\u0437\\u043d\\u0430\\u0447\\u0435\\u043d\\u0438\\u044f \\u043f\\u043e\\u043a\\u0430\\u0437\\u0430\\u0442\\u0435\\u043b\\u0435\\u0439 \\u00ab\\u041a\\u043e\\u043b\\u0438\\u0447\\u0435\\u0441\\u0442\\u0432\\u043e \\u0443\\u0440\\u0435\\u0433\\u0443\\u043b\\u0438\\u0440\\u043e\\u0432\\u0430\\u043d\\u043d\\u044b\\u0445 \\u0441\\u0442\\u0440\\u0430\\u0445\\u043e\\u0432\\u044b\\u0445 \\u0441\\u043b\\u0443\\u0447\\u0430\\u0435\\u0432: \\u043e\\u0441\\u0443\\u0449\\u0435\\u0441\\u0442\\u0432\\u043b\\u0435\\u043d\\u044b \\u043e\\u043a\\u043e\\u043d\\u0447\\u0430\\u0442\\u0435\\u043b\\u044c\\u043d\\u044b\\u0435 \\u0441\\u0442\\u0440\\u0430\\u0445\\u043e\\u0432\\u044b\\u0435 \\u0432\\u044b\\u043f\\u043b\\u0430\\u0442\\u044b\\u00bb (\\u0441\\u0442\\u0440\\u043e\\u043a\\u0438 14, 38, 45, 57) \\u0438\\u00a0\\u00ab\\u041a\\u043e\\u043b\\u0438\\u0447\\u0435\\u0441\\u0442\\u0432\\u043e \\u0443\\u0440\\u0435\\u0433\\u0443\\u043b\\u0438\\u0440\\u043e\\u0432\\u0430\\u043d\\u043d\\u044b\\u0445 \\u0441\\u0442\\u0440\\u0430\\u0445\\u043e\\u0432\\u044b\\u0445 \\u0441\\u043b\\u0443\\u0447\\u0430\\u0435\\u0432: \\u0434\\u0430\\u043d\\u044b \\u043e\\u0442\\u043a\\u0430\\u0437\\u044b \\u0432\\u00a0\\u0441\\u0442\\u0440\\u0430\\u0445\\u043e\\u0432\\u044b\\u0445 \\u0432\\u044b\\u043f\\u043b\\u0430\\u0442\\u0430\\u0445\\u00bb (\\u0441\\u0442\\u0440\\u043e\\u043a\\u0438 15, 46, 58) \\u043d\\u0435\\u00a0\\u0443\\u043a\\u0430\\u0437\\u044b\\u0432\\u0430\\u044e\\u0442\\u0441\\u044f.\"\n        ],\n        \"semantic_type\": \"\",\n        \"description\": \"\"\n      }\n    },\n    {\n      \"column\": \"Urls\",\n      \"properties\": {\n        \"dtype\": \"string\",\n        \"num_unique_values\": 5076,\n        \"samples\": [\n          \"http://www.cbr.ru/Reception/TopicalMessage/Page/8663\",\n          \"http://www.cbr.ru/Reception/TopicalMessage/Page/4600\",\n          \"http://www.cbr.ru/Reception/TopicalMessage/Page/7580\"\n        ],\n        \"semantic_type\": \"\",\n        \"description\": \"\"\n      }\n    },\n    {\n      \"column\": \"NUM_TEM\",\n      \"properties\": {\n        \"dtype\": \"date\",\n        \"min\": 0,\n        \"max\": 96,\n        \"num_unique_values\": 94,\n        \"samples\": [\n          41,\n          22,\n          56\n        ],\n        \"semantic_type\": \"\",\n        \"description\": \"\"\n      }\n    },\n    {\n      \"column\": \"NAME_TEM\",\n      \"properties\": {\n        \"dtype\": \"category\",\n        \"num_unique_values\": 87,\n        \"samples\": [\n          \"\\u0424\\u043e\\u0440\\u043c\\u0430 0420753\\u00a0\\u00ab\\u0421\\u0432\\u0435\\u0434\\u0435\\u043d\\u0438\\u044f \\u043e\\u00a0\\u043f\\u0440\\u043e\\u0433\\u0440\\u0430\\u043c\\u043c\\u043d\\u043e-\\u0442\\u0435\\u0445\\u043d\\u0438\\u0447\\u0435\\u0441\\u043a\\u0438\\u0445 \\u0441\\u0440\\u0435\\u0434\\u0441\\u0442\\u0432\\u0430\\u0445 \\u0438\\u00a0\\u0441\\u0435\\u0442\\u0435\\u0432\\u044b\\u0445 \\u043a\\u043e\\u043c\\u043c\\u0443\\u043d\\u0438\\u043a\\u0430\\u0446\\u0438\\u044f\\u0445 \\u0431\\u044e\\u0440\\u043e \\u043a\\u0440\\u0435\\u0434\\u0438\\u0442\\u043d\\u044b\\u0445 \\u0438\\u0441\\u0442\\u043e\\u0440\\u0438\\u0439, \\u0441\\u0440\\u0435\\u0434\\u0441\\u0442\\u0432\\u0430\\u0445 \\u0437\\u0430\\u0449\\u0438\\u0442\\u044b \\u0438\\u043d\\u0444\\u043e\\u0440\\u043c\\u0430\\u0446\\u0438\\u0438, \\u043f\\u0440\\u0438\\u043c\\u0435\\u043d\\u044f\\u0435\\u043c\\u044b\\u0445 \\u0431\\u044e\\u0440\\u043e \\u043a\\u0440\\u0435\\u0434\\u0438\\u0442\\u043d\\u044b\\u0445 \\u0438\\u0441\\u0442\\u043e\\u0440\\u0438\\u0439, \\u0438\\u00a0\\u043b\\u0438\\u0446\\u0430\\u0445, \\u0434\\u043e\\u043f\\u0443\\u0449\\u0435\\u043d\\u043d\\u044b\\u0445 \\u043a\\u00a0\\u0440\\u0430\\u0431\\u043e\\u0442\\u0435 \\u0441\\u00a0\\u043f\\u0440\\u043e\\u0433\\u0440\\u0430\\u043c\\u043c\\u043d\\u043e-\\u0442\\u0435\\u0445\\u043d\\u0438\\u0447\\u0435\\u0441\\u043a\\u0438\\u043c\\u0438 \\u0441\\u0440\\u0435\\u0434\\u0441\\u0442\\u0432\\u0430\\u043c\\u0438 \\u0438\\u00a0\\u0441\\u0435\\u0442\\u0435\\u0432\\u044b\\u043c\\u0438 \\u043a\\u043e\\u043c\\u043c\\u0443\\u043d\\u0438\\u043a\\u0430\\u0446\\u0438\\u044f\\u043c\\u0438\\u00bb\\r\",\n          \"\\u0410\\u043a\\u0442\\u0443\\u0430\\u043b\\u044c\\u043d\\u044b\\u0435 \\u0432\\u043e\\u043f\\u0440\\u043e\\u0441\\u044b \\u0440\\u0430\\u0431\\u043e\\u0442\\u044b \\u0444\\u0438\\u043d\\u0430\\u043d\\u0441\\u043e\\u0432\\u043e\\u0439 \\u0441\\u0438\\u0441\\u0442\\u0435\\u043c\\u044b\",\n          \"\\u041e\\u0442\\u0447\\u0435\\u0442\\u043d\\u043e\\u0441\\u0442\\u044c \\u043f\\u043e\\u00a0\\u0444\\u043e\\u0440\\u043c\\u0435 0420833\\u00a0\\u00ab\\u041e\\u0442\\u0447\\u0435\\u0442 \\u043e\\u00a0\\u0434\\u043e\\u043b\\u0433\\u043e\\u0432\\u043e\\u0439 \\u043d\\u0430\\u0433\\u0440\\u0443\\u0437\\u043a\\u0435 \\u0437\\u0430\\u0435\\u043c\\u0449\\u0438\\u043a\\u043e\\u0432 \\u2013 \\u0444\\u0438\\u0437\\u0438\\u0447\\u0435\\u0441\\u043a\\u0438\\u0445 \\u043b\\u0438\\u0446\\u00bb\"\n        ],\n        \"semantic_type\": \"\",\n        \"description\": \"\"\n      }\n    }\n  ]\n}"
            }
          },
          "metadata": {},
          "execution_count": 25
        }
      ]
    },
    {
      "cell_type": "code",
      "source": [
        "df.to_excel('data_que_ans_urls_numtem_nametem.xlsx')"
      ],
      "metadata": {
        "id": "MP1DencKCHBK"
      },
      "execution_count": null,
      "outputs": []
    },
    {
      "cell_type": "markdown",
      "source": [
        "Дальше проверки"
      ],
      "metadata": {
        "id": "09Aed6BHAABt"
      }
    },
    {
      "cell_type": "code",
      "source": [
        "print(l2[len(l2)-1])#здесь почему-то ломается\n",
        "print(Q[len(Q)-1])"
      ],
      "metadata": {
        "colab": {
          "base_uri": "https://localhost:8080/"
        },
        "id": "9AKjBUxW2kg-",
        "outputId": "1b8fc631-d863-483f-ae51-33d624368923"
      },
      "execution_count": null,
      "outputs": [
        {
          "output_type": "stream",
          "name": "stdout",
          "text": [
            "https://cbr.ru/faq/w_fin_sector/Nalichnaya_valyuta_na_komandirovochnye_raskhody/\n",
            "Могу ли я купить валюту на брокерский счет и потом получить ее наличными?\n",
            "\n"
          ]
        }
      ]
    },
    {
      "cell_type": "code",
      "source": [
        "len(A)\n",
        "len(Q)"
      ],
      "metadata": {
        "colab": {
          "base_uri": "https://localhost:8080/"
        },
        "id": "QI8Vi4fo0z5B",
        "outputId": "3577aeb7-7f73-41d0-b3c9-64f27b4f2f79"
      },
      "execution_count": null,
      "outputs": [
        {
          "output_type": "execute_result",
          "data": {
            "text/plain": [
              "279"
            ]
          },
          "metadata": {},
          "execution_count": 84
        }
      ]
    },
    {
      "cell_type": "code",
      "source": [
        "pre_links2 = []\n",
        "par_tem2_str('https://cbr.ru/faq/w_fin_sector/', pre_links2)\n",
        "\n",
        "for i in range(len(pre_links2)):\n",
        "  print(pre_links2[i])"
      ],
      "metadata": {
        "colab": {
          "base_uri": "https://localhost:8080/"
        },
        "id": "dv4MlhpKzgrX",
        "outputId": "925320ab-5828-4380-d8b6-f7400c4b376a"
      },
      "execution_count": null,
      "outputs": [
        {
          "output_type": "stream",
          "name": "stdout",
          "text": [
            "/faq/voprosy-i-otvety-po-kreditnym-kanikulam-dlya-uchastnikov-special-noy-voennoy-operacii/\n",
            "/faq/w_fin_sector/kreditnye-kanikuly/\n",
            "/faq/w_fin_sector/Kak_sejchas_kupit_valyutu/\n",
            "/faq/w_fin_sector/Valyutnye_scheta_i_vklady/\n",
            "/faq/w_fin_sector/Nalichnaya_valyuta_na_komandirovochnye_raskhody/\n",
            "/faq/w_fin_sector/Bankovskie_karty/\n",
            "/faq/w_fin_sector/Transgranichnie_perevodi/\n",
            "/faq/w_fin_sector/Vklady_i_kredity/\n",
            "/faq/w_fin_sector/Investicii/\n",
            "/faq/w_fin_sector/investicii-v-zoloto/\n"
          ]
        }
      ]
    },
    {
      "cell_type": "code",
      "source": [
        "a = []\n",
        "par_tem1_str('https://cbr.ru/faq/', a)\n",
        "\n",
        "for i in range(len(a)):\n",
        "  print(a[i])"
      ],
      "metadata": {
        "colab": {
          "base_uri": "https://localhost:8080/"
        },
        "id": "aBk7KJcrv5IN",
        "outputId": "26824de6-f664-4ea1-a3c9-e58970338f9e"
      },
      "execution_count": null,
      "outputs": [
        {
          "output_type": "stream",
          "name": "stdout",
          "text": [
            "/faq/w_fin_sector/\n",
            "/faq/dkp/\n",
            "/faq/ndo/\n",
            "/faq/nps/\n",
            "/faq/bank_s/\n",
            "/faq/pens_k_inv/\n",
            "/faq/insh/\n",
            "/faq/rcb/\n",
            "/faq/finm_infrastructure/\n",
            "/faq/microfin/\n",
            "/faq/credit_h/\n",
            "/faq/fintekh/\n",
            "/faq/pnp/\n",
            "/faq/client/\n",
            "/faqnew/br/\n",
            "/faq/information_security/\n",
            "/faq/zhaloby-v-bank-rossii-/\n",
            "/faq/ucbr/\n"
          ]
        }
      ]
    },
    {
      "cell_type": "code",
      "source": [
        "u = 'https://cbr.ru' + a[0]\n",
        "print(u)"
      ],
      "metadata": {
        "colab": {
          "base_uri": "https://localhost:8080/"
        },
        "id": "LRKwHViPv9G2",
        "outputId": "61a20771-b522-48d4-ac09-4772242d4468"
      },
      "execution_count": null,
      "outputs": [
        {
          "output_type": "stream",
          "name": "stdout",
          "text": [
            "https://cbr.ru/faq/w_fin_sector/\n"
          ]
        }
      ]
    },
    {
      "cell_type": "code",
      "source": [
        "for i in range(len(links)):\n",
        "  print(links[i])\n",
        "\n",
        "for i in range(len(answers)):\n",
        "  print(qeses[i] + \"  -   \"+ answers[i])"
      ],
      "metadata": {
        "colab": {
          "base_uri": "https://localhost:8080/"
        },
        "id": "SROVhjACsk41",
        "outputId": "4da89fd9-97b5-40d6-a311-d4a28cbc05a7"
      },
      "execution_count": null,
      "outputs": [
        {
          "output_type": "stream",
          "name": "stdout",
          "text": [
            "/faq/voprosy-i-otvety-po-kreditnym-kanikulam-dlya-uchastnikov-special-noy-voennoy-operacii/\n",
            "/faq/w_fin_sector/kreditnye-kanikuly/\n",
            "/faq/w_fin_sector/Kak_sejchas_kupit_valyutu/\n",
            "/faq/w_fin_sector/Valyutnye_scheta_i_vklady/\n",
            "/faq/w_fin_sector/Nalichnaya_valyuta_na_komandirovochnye_raskhody/\n",
            "/faq/w_fin_sector/Bankovskie_karty/\n",
            "/faq/w_fin_sector/Transgranichnie_perevodi/\n",
            "/faq/w_fin_sector/Vklady_i_kredity/\n",
            "/faq/w_fin_sector/Investicii/\n",
            "/faq/w_fin_sector/investicii-v-zoloto/\n",
            "Почему Банк России не хранил золотовалютные резервы внутри страны? \n",
            "  -   \n",
            "Золотовалютные резервы — это инструмент, за счет которого центральный банк может защищать экономику от внешних кризисов. В тяжелых ситуациях они обеспечивают выплату валютного долга, критический импорт, стабилизируют валютный рынок. Хранить резервы внутри страны или потратить их внутри страны — это все равно что не иметь никаких резервов, вообще никакой защиты от внешних кризисов. Так наша страна жила в 1992–1999 годах. Тогда она была беззащитна перед внешними угрозами, это был практически непрекращающийся финансовый кризис. Именно поэтому центральный банк стремится накапливать резервы в хорошие времена и формировать структуру резервов таким образом, чтобы она позволила отреагировать на разные типы кризисов.\n",
            "С 2014 года Банк России учитывал в своей политике два возможных вида кризисов.\n",
            "Первый — традиционный финансовый кризис, какие случались в мире раньше. Такие кризисы были в 2008, 2014 и 2020 годах. Во время этих кризисов сильно падают цены на наши экспортные товары, происходит резкий отток капитала из стран с развивающимися рынками. В такое время нужны резервы в валютах стран, с которыми Россия ведет активную торговлю и в которых номинированы долги компаний, банков и государства. Эти валюты — преимущественно доллары США и евро.\n",
            "Второй тип кризисов — геополитические. Чтобы такому кризису противостоять, необходимы резервы, на которые не могут воздействовать санкции западных государств. Поэтому Банк России за последние годы увеличил долю золота и китайского юаня почти до половины резервов.\n",
            "Эти типы кризисов требуют принципиально разной реакции, по-разному влияют на экономику, но могут быть достаточно масштабными. Именно поэтому с 2014 года Банк России серьезно нарастил резервы. Сейчас они намного выше, чем у других стран с сопоставимыми экономиками. Так сделано именно потому, что Банк России учитывал, что если реализуется финансовый кризис, то оперативно воспользоваться золотом и юанями не будет возможности — эти активы не очень ликвидны. А если реализуется геополитический риск, то будут ограничены возможности использования резервов в долларах США и евро, и значит, необходим достаточный объем резервов в альтернативных активах.\n",
            "\n",
            "Можно ли было сделать что-нибудь, чтобы часть золотовалютных резервов в долларах и евро не заморозили?\n",
            "  -   \n",
            "Такого способа нет. Безналичная валюта всегда отражается на корреспондентских счетах в иностранных банках и поэтому может быть заморожена.\n",
            "Но после заморозки резервов Банка России в долларах США и евро Россия применила по сути зеркальную меру. Были введены ограничение на движение капитала, запрет на продажу ценных бумаг иностранными инвесторами и запрет на вывод ими средств из российской финансовой системы. Кроме того, выплаты по корпоративному долгу российских компаний и государственному долгу перед держателями долга из стран, которые поддерживают санкции против России, будут проходить только с разрешения Правительственной комиссии. То есть в ответ на заморозку части российских резервов Россия также ввела ограничения на движения средств, которые могли бы быть перечислены в недружественные страны, на сопоставимую сумму.\n",
            "\n",
            "Правда ли, что Банк России вывез золото из золотовалютных резервов из России?\n",
            "  -   \r\n",
            "            Нет, это неправда. Все золото из наших золотовалютных резервов находится в хранилищах Банка России на территории нашей страны. \r\n",
            "        \n",
            "Как иностранные ценные бумаги, приобретенные на СПБ Бирже, оказались на счетах НКО АО НРД?\n",
            "  -   \r\n",
            "            Российский брокер (депозитарий), клиентом которого является инвестор вправе самостоятельно определить место хранения клиентских иностранных ценных бумаг. Ряд российских брокеров (депозитариев) воспользовались таким правом и выбрали приоритетным местом хранения НРД. Вследствие этого после введения санкций в отношении НРД клиенты таких брокеров-депозитариев не смогли распоряжаться своими ценными бумагами, а также получать выплаты по ним.\r\n",
            "        \n",
            "Каким образом иностранные ценные бумаги, купленные на Московской Бирже, оказались под «СПБ Банк»?\n",
            "  -   \r\n",
            "            Это произошло из-за перевода клиентов к другим брокерам. В следствие этого произошли изменения и в депозитарном учете. Брокеры сменили привычный депозитарий на «СПБ Банк» (ранее «Бест Эффорртс Банк»).\r\n",
            "        \n",
            "Почему не приходят выплаты по иностранным ценным бумагам?\n",
            "  -   \r\n",
            "            Права инвестора на ценные бумаги могут учитываться по разным цепочкам учета. Если в учетной цепочке был НРД, то из-за санкций произошло прерывание взаимодействия. Поэтому инвесторы могут не получать выплаты по тем ценным бумагам, которые учитываются в центральном депозитарии.\r\n",
            "        \n",
            "Я приобрел иностранные акции у российского брокера, а не за рубежом. Почему они вдруг оказались заморожены со стороны Euroclear?\n",
            "  -   \r\n",
            "            Иностранные ценные бумаги выпускаются по иностранному законодательству, и цепочка учета таких бумаг всегда будет начинаться с иностранного депозитария. Если наш инвестор покупает иностранную бумагу, то российский депозитарий должен получить ее на свой счет, открытый в иностранном учетном институте. А чтобы инвестор смог продать такую бумагу, у российского депозитария должна быть возможность провести операцию с такой бумагой в иностранном депозитарии. Так работает учетная система на рынке ценных бумаг. Некоторые американские бумаги, торгуемые на СПБ Бирже, учитывались расчетным депозитарием биржи в НРД, которая имела счета в Euroclear, Clearstream. Поэтому если иностранный депозитарий заблокирует счета российского депозитария, то последний не сможет исполнять поручения клиента в отношении иностранных бумаг. Также невозможно будет передать выплаты, начисленные на бумаги.\r\n",
            "        \n",
            "Почему я по-прежнему не могу продать квазироссийские ценные бумаги, несмотря на то, что эти бумаги могут торговаться на СПБ Бирже?\n",
            "  -   \n",
            "Уточнить эту информацию вы можете у своего брокера.\n",
            "Скорее всего он не имеет доступа к торгам на CПБ Бирже.\n",
            "\n",
            "Национальный расчетный депозитарий получил разрешения Люксембурга и Бельгии на разблокировку иностранных активов. Что в связи с этим должны делать инвесторы, у которых есть такие активы?\n",
            "  -   \n",
            "Национальный расчетный депозитарий (НРД) совместно с профессиональными участниками рынка ценных бумаг проводит работу по разблокировке активов инвесторов и причитающихся им выплат, следуя полученным разрешениям.\n",
            "Инвесторам следует проверить свои персональные данные в личных кабинетах брокера/депозитария (в мобильном приложении или на сайте) и при необходимости оперативно актуализировать их. Также нужно быть готовыми уточнить эти данные по запросу брокера/депозитария и предоставить копии и оригиналы документов, которые могут потребоваться в целях разблокировки.  \n",
            "Всем участникам рынка важно скоординировать взаимодействие, чтобы разблокировать иностранные ценные бумаги.\n",
            "Минфин Люксембурга выдал разрешение 20 декабря 2022 года, Казначейство Бельгии — 22 декабря 2022 года, оба регулятора установили для участников российского рынка и международных депозитариев крайне сжатые сроки на завершение процедур по разблокировке — до 7 января 2023 года.  \n",
            "Процессы, определенные в лицензиях Минфина Люксембурга и Казначейства Бельгии, кардинально различаются между собой.\n",
            "Передача данных по заблокированным активам в Clearstream (Люксембург) осуществляется через НРД. Для этого он собирает данные по заблокированным бумагам и их владельцам от российских брокеров и депозитариев с учетом требований Clearstream.\n",
            "Процесс передачи данных по заблокированным активам в Euroclear (Бельгия) выглядит иначе — все взаимодействие осуществляется при посредничестве европейской компании.\n",
            "Выданные разрешения еще не гарантируют, что российские инвесторы снова смогут распоряжаться заблокированными активами и получать выплаты по ним. Сжатые сроки, размытость формулировок в разрешениях и сложность процедуры разблокировки не дают уверенности, что западные регуляторы готовы обеспечить право российских инвесторов распоряжаться своим имуществом. Инвесторам необходимо дождаться уведомлений о результатах работы по разблокировке активов от своих брокеров/депозитариев. Актуальная информация об основных этапах работы и необходимых действиях участников оперативно публикуется на сайте НРД.\n",
            "\n",
            "У меня есть иностранные ценные бумаги. Как мне узнать, заблокированы ли мои бумаги, и если да, то сколько и какие?\n",
            "  -   \n",
            "Информацию о том, сколько бумаг у вас будет выведено на неторговый счет, вам предоставит брокер. Также он перечислит наименования этих бумаг и пояснит, какие есть ограничения при распоряжении ими. Не будут торговаться только иностранные ценные бумаги, которые хранятся на счетах расчетного депозитария «Бест Эффортс Банк» в НКО АО НРД и заблокированы международными расчетно-клиринговыми организациями.\n",
            "При этом брокер вправе установить предельное количество бумаг для владельцев маленьких портфелей, которые не будут блокироваться. Общая доля заблокированных бумаг будет распределяться между клиентами пропорционально, исходя из общего количества ценных бумаг всех клиентов, которые владеют активом свыше установленного предельного лимита.\n",
            "Например, у всех клиентов брокера 1000 штук иностранных ценных бумаг, из них должно быть заблокировано 100 штук, или 10%. Предельное количество ценных бумаг, не подлежащих блокировке, установлено брокером на уровне 20 штук. Допустим, на клиентов, у которых 21 и более ценных бумаг, приходится 800 штук. 100 бумаг, которые необходимо заблокировать, составляют 12,5% от 800. Это значит, что у каждого клиента с 21 и большим количеством бумаг будет заблокировано приблизительно по 12,5% от их общего количества в портфеле.\n",
            "\n",
            "Все ли иностранные ценные бумаги будут заблокированы?\n",
            "  -   \n",
            "Заблокированы будут, то есть не смогут участвовать в торгах, только иностранные ценные бумаги, прошедшие первичный листинг в США, учет и хранение которых осуществлялся через НКО АО НРД в международных расчетно-клиринговых организациях. Исключением являются ценные бумаги иностранных эмитентов, которые ведут свою деятельность в России (HeadHunter Group PLC, Yandex N.V., Ozon Holdings PLC, Cian PLC, TCS Group Holding PLC и Fix Price Group Ltd.). На ценные бумаги с первичным листингом на других торговых площадках ограничение не распространяется.\n",
            "\n",
            "Если у меня нет бумаг, которые хранятся в НРД, у меня тоже выведут из оборота часть бумаг?\n",
            "  -   \r\n",
            "            В случае если ваши иностранные ценные бумаги не хранятся на счете «Бест Эффортс Банк» в НКО АО НРД, они не будут выведены из оборота — и вы сможете осуществлять торговлю на бирже в полном объеме. Полную информацию о том, попали ли ваши бумаги под ограничение, можно получить у брокера или депозитария.\r\n",
            "        \n",
            "Когда снимут ограничения по иностранным ценным бумагам?\n",
            "  -   \n",
            "В настоящее время сложно определить какие-либо даты снятия ограничений по иностранным ценным бумагам. Это зависит от действий международных депозитариев.\n",
            "При этом важно отметить, что владельцы таких ценных бумаг сохраняют свое право собственности на них. Возможность распоряжаться причитающимися по ним выплатами и осуществлять сделки с ними на организованных торгах в прежнем режиме станет доступна по мере снятия ограничений международными депозитариями.\n",
            "\n",
            "Можно ли вообще продать эти иностранные ценные бумаги?\n",
            "  -   \r\n",
            "            Вы можете продать заблокированные ценные бумаги на внебиржевом рынке. Однако цены таких сделок могут отличаться от биржевых, поэтому перед их совершением следует внимательно взвесить все за и против. После снятия ограничений у владельца бумаг появится возможность продать их на бирже с более прозрачным ценообразованием.\r\n",
            "        \n",
            "Как продать ценные бумаги на внебиржевом рынке?\n",
            "  -   \r\n",
            "            Продать актив на внебиржевом рынке можно как через брокера, так и самостоятельно. В первом случае инвестору надо уточнить у своего брокера, оказывает ли он услуги по совершению внебиржевых сделок, в том числе через специализированные площадки (например, MOEX Board), а также выяснить порядок подачи поручения на проведение таких операций. Важно понимать, что условия и тарифы внебиржевых сделок могут отличаться от условий совершения сделок на организованных торгах. За подробностями следует обратиться к брокеру.Возможно также заключение такой сделки без участия брокера, если инвестор сам найдет контрагента. После ее заключения, например, в форме договора купли-продажи, придется самостоятельно подать депозитарное поручение на перевод ценных бумаг на счет депо покупателя. При этом покупатель ценных бумаг должен будет подать встречное депозитарное поручение в тот депозитарий, где открыт его счет депо. Обслуживание покупателя и продавца в одном депозитарии значительно упростит исполнение сделки.При продаже ценных бумаг на внебиржевом рынке стоит учитывать, что цена сделки определяется по соглашению сторон. Она может не отражать справедливую стоимость ценной бумаги, которая формируется на основном рынке. Нужно быть готовым, что ценная бумага может продаваться с дисконтом. Сделки с бумагами, которые переведены на неторговые счета, происходят только внутри страны. Покупатель такой ценной бумаги не сможет свободно продать ее на бирже или иностранной площадке.\r\n",
            "        \n",
            "Могу ли я продать иностранные ценные бумаги лицам из недружественных стран?\n",
            "  -   \n",
            "Да, правительственная комиссия разрешила такие сделки с иностранными бумагами, которые были в собственности резидентов России по состоянию на 22 февраля 2022 года, при условии зачисления средств от продажи на счет в российском банке.\n",
            "Воспользоваться этой возможностью фактически могут только владельцы незаблокированных бумаг. Исключение — даже заблокированные в Национальном расчетном депозитарии (НРД) бумаги могут быть проданы нерезиденту, если нерезидент имеет счет депо в НРД (и, таким образом, перемещение ценных бумаг произойдет внутри НРД между его клиентами).\n",
            "\n",
            "В чем проявляется защита интересов инвесторов, если я не могу распоряжаться своими иностранными бумагами?\n",
            "  -   \n",
            "Вы можете распоряжаться заблокированными ценными бумагами, в том числе продать на внебиржевом рынке, использовать их в качестве залога. Единственное, не сможете продать их на биржевых торгах.\r\n",
            "Инвесторы не знают, где хранится актив, который они приобретают на биржевых торгах. Ограничение биржевых торгов заблокированными ценными бумагами позволит прервать цепочку купли-продажи таких бумаг, когда участники торгов и их клиенты не знают о том, что приобретают ценные бумаги, которые заблокированы в международном депозитарии.\r\n",
            "        \n",
            "Правда, что с нового года на новых территориях нельзя будет расплачиваться гривнами в магазинах?\n",
            "  -   \n",
            "С 1 января 2023 года на территориях Донецкой и Луганской народных республик, Херсонской и Запорожской областей больше не принимаются гривны, их обращение прекращается. Рассчитаться в магазинах или оплатить услуги можно только в рублях. Расчеты за ЖКХ, а также другие обязательные платежи и сборы тоже осуществляются только в рублях.\n",
            "\n",
            "У меня остались гривны на руках, смогу ли я обменять их на рубли?\n",
            "  -   \n",
            "Да, вы можете обменять как банкноты, так и монеты.\n",
            "Если вы проживаете на территориях Донецкой и Луганской народных республик, Херсонской и Запорожской областей, вам нужно обратиться в офисы Промсвязьбанка, ЦМРБанка и МРБ-Банка, которые там работают.\n",
            "Граждане, постоянно проживающие на территории Украины и экстренно прибывшие в Россию в 2022 году, смогут обменять гривны в Сбербанке или РНКБ.\n",
            "\n",
            "В какие сроки будет возможен обмен гривен на рубли?\n",
            "  -   \n",
            "Срок не ограничен.\n",
            "\n",
            "По какому курсу возможен обмен гривен на рубли?\n",
            "  -   \n",
            "Вы сможете обменять гривны на рубли по курсу, установленному банком.\n",
            "\n",
            "Есть ли ограничения по сумме для обмена гривен?\n",
            "  -   \n",
            "Для граждан, находящихся на территориях Донецкой и Луганской народных республик, Херсонской и Запорожской областей, ограничений нет. Они могут обменять гривны в офисах Промсвязьбанка, ЦМРБанка и МРБ-Банка, работающих на этих территориях.\n",
            "Граждане, постоянно проживающие на территории Украины, экстренно прибывшие в Россию в 2022 году и получившие ранее средства в рамках мер социальной поддержки, вправе обменять до 50 тыс. гривен в одном из банков — Сбербанке или РНКБ. При этом обмен производится за вычетом суммы, обмененной в 2022 году. Обменный курс устанавливается уполномоченным банком.\n",
            "\n",
            "Продолжит ли банк обслуживать участника СВО, если у него истек срок действия паспорта?\n",
            "  -   \n",
            "Банк России рекомендовал кредитным организациям продолжить обслуживание клиентов, у которых истек срок действия паспорта, в случае, если они:\n",
            "\n",
            "призваны на военную службу по мобилизации;\n",
            "заключили контракт о добровольном содействии в выполнении задач, возложенных на Вооруженные Силы РФ, при участии в СВО;\n",
            "проходят военную службу по контракту, находятся на военной службе в войсках национальной гвардии, воинских формированиях и органах, указанных в пункте 1 статьи 6 Федерального закона от 31.05.1996 № 61-ФЗ «Об обороне», при условии участия в СВО;\n",
            "проходят службу в пограничных органах на территории России, обеспечивающих проведение СВО.\n",
            "\n",
            "При этом банк может запросить у такого человека или его представителя информацию, подтверждающую его участие в СВО.\n",
            "\n",
            "У меня двойное гражданство. Кем я буду считаться — резидентом или нерезидентом в указах Президента с ограничительными мерами, введенными из-за санкций?\n",
            "  -   \n",
            "Если у вас двойное гражданство, при применении указов вы будете рассматриваться как резидент.\n",
            "\n",
            "Как российская компания может погасить долг по договору синдицированного кредитования перед российским кредитором, если по договору платеж должен проходить через иностранного платежного агента из недружественной страны?\n",
            "  -   \n",
            "Российские юридические лица — должники по договору синдицированного кредита (займа) обязаны перечислять причитающиеся российским кредиторам денежные средств (в иностранной валюте или в рублях) им напрямую. Платежные агенты, являющиеся лицами  недружественных иностранных государств, из такой платежной цепочки исключены.\n",
            "\n",
            "Считается ли резидент Республики Беларусь иностранным кредитором?\n",
            "  -   \n",
            "Нет, не считается.\n",
            "В случае открытия для резидентов Республики Беларусь банковских счетов типа «С» резиденты могут направить заявление о закрытии таких счетов, о переводе размещенных на них денежных средств на иные банковские счета резидентов Республики Беларусь. Открытые на имя резидентов Республики Беларусь счета депо типа «С» утрачивают статус счетов депо типа «С».\n",
            "\n",
            "Могут ли получить банковские и другие финансовые услуги граждане ДНР и ЛНР? Какие для этого нужны документы?\n",
            "  -   \r\n",
            "            Чтобы стать клиентом российской финансовой организации (банк, страховая компания, МФО и другие), человек, приехавший из ЛНР или ДНР, может представить удостоверяющий личность документ, выданный в этих республиках. Если удостоверение личности просрочено, клиент все равно сможет воспользоваться финансовыми услугами. Но после получения нового паспорта он обязан предоставить в финансовую организацию актуальные данные. Миграционную карту предъявлять в финансовую организацию не нужно.\r\n",
            "        \n",
            "Банк начал часто перезванивать после попытки совершить какую-то операцию, не дает провести ее с первого раза. Банки так не дают переводить деньги?\n",
            "  -   \r\n",
            "            Банки стали бдительнее из-за участившихся случаев мошенничества, поэтому стараются перепроверять операции. Это не такое большое неудобство по сравнению с риском потерять деньги. Не забывайте о безопасности: не верьте провокационным и паническим сообщениям в соцсетях; не переходите по ссылкам в письмах по электронной почте якобы из банка; не разговаривайте с людьми, которые звонят внезапно, а не после уведомления банка о приостановке операции, представляются вашим банком, Центральным банком, прокуратурой и другими органами власти и пытаются запугать и получить ваши данные или заставить перевести средства на другой счет.\r\n",
            "        \n"
          ]
        }
      ]
    },
    {
      "cell_type": "code",
      "source": [
        "par_qes_str('https://cbr.ru/faq/w_fin_sector/kreditnye-kanikuly/',answers, qeses)"
      ],
      "metadata": {
        "id": "2DRT5gV-pDHv"
      },
      "execution_count": null,
      "outputs": []
    },
    {
      "cell_type": "code",
      "source": [],
      "metadata": {
        "colab": {
          "base_uri": "https://localhost:8080/"
        },
        "id": "aC3OzffkpYSm",
        "outputId": "bf09f1b6-a786-468a-8cfd-3ee897890068"
      },
      "execution_count": null,
      "outputs": [
        {
          "output_type": "stream",
          "name": "stdout",
          "text": [
            "\n",
            "Пенсионер, как и любой гражданин, вправе взять кредитные каникулы, если его доходы за два месяца, предшествующих месяцу обращения, сократились минимум на 30% по сравнению со среднемесячным доходом за 12 месяцев, предшествующих дате обращения с требованием. При этом банк учтет все виды доходов — и зарплату, и пенсию.\n",
            "\n"
          ]
        }
      ]
    },
    {
      "cell_type": "code",
      "source": [
        "print(qeses[6] + answers[6])"
      ],
      "metadata": {
        "colab": {
          "base_uri": "https://localhost:8080/"
        },
        "id": "me9Qk5j5k9Ez",
        "outputId": "7585ace6-12af-417b-8eaf-47f973cd7d1f"
      },
      "execution_count": null,
      "outputs": [
        {
          "output_type": "stream",
          "name": "stdout",
          "text": [
            "На какой срок предоставляются кредитные каникулы?\n",
            "\r\n",
            "            Кредитные каникулы предоставляются мобилизованным и другим участникам СВО на срок службы по мобилизации, контракту или участия в СВО и плюс 30 дней.Кредитные каникулы могут быть продлены на время, пока заемщик находится в стационаре на излечении от ранений, травм, контузий или заболеваний, полученных в ходе специальной военной операции, а также на время, пока участник СВО признан безвестно отсутствующим.При этом кредитные каникулы не могут начинаться ранее 21 сентября 2022 года, а по кредитным картам — ранее даты обращения с требованием о каникулах.\r\n",
            "        \n"
          ]
        }
      ]
    },
    {
      "cell_type": "code",
      "source": [
        "def create_csv():\n",
        "  pass"
      ],
      "metadata": {
        "id": "Mklyvbsjdd_A"
      },
      "execution_count": null,
      "outputs": []
    },
    {
      "cell_type": "code",
      "source": [
        "def write_csv():\n",
        "  pass"
      ],
      "metadata": {
        "id": "z9F_kA44dihb"
      },
      "execution_count": null,
      "outputs": []
    },
    {
      "cell_type": "code",
      "source": [
        "parser(\"https://cbr.ru/faq/voprosy-i-otvety-po-kreditnym-kanikulam-dlya-uchastnikov-special-noy-voennoy-operacii/\")"
      ],
      "metadata": {
        "colab": {
          "base_uri": "https://localhost:8080/"
        },
        "id": "3Fiz1djMdn7a",
        "outputId": "2babd4e0-291e-4db3-d465-60f0ea67bf9e"
      },
      "execution_count": null,
      "outputs": [
        {
          "output_type": "stream",
          "name": "stdout",
          "text": [
            "Могу ли я, как участник СВО, переводить деньги без комиссии?\n",
            "\n",
            "Что такое кредитные каникулы для мобилизованных и участников СВО? По каким кредитам мобилизованные и другие участники СВО могут получить кредитные каникулы?\n",
            "\n",
            "Кто имеет право на кредитные каникулы?\n",
            "\n",
            "Кто относится к членам семьи мобилизованного, другого участника СВО?\n",
            "\n",
            "Кредитные каникулы мобилизованным и другим участникам СВО предоставляются автоматически?\n",
            "\n",
            "По каким кредитам мобилизованные и другие участники СВО могут получить кредитные каникулы?\n",
            "\n",
            "На какой срок предоставляются кредитные каникулы?\n",
            "\n",
            "Можно ли оформить кредитные каникулы «задним числом»?\n",
            "\n",
            "Можно ли выйти из кредитных каникул досрочно?\n",
            "\n",
            "Когда можно обращаться за кредитными каникулами?\n",
            "\n",
            "К кому и как обратиться за кредитными каникулами?\n",
            "\n",
            "Когда, как и какие нужно передавать документы, подтверждающие участие в специальной военной операции?\n",
            "\n",
            "Могут ли документы за военнослужащего передать родственники?\n",
            "\n",
            "Какие документы могут потребоваться членам семьи мобилизованного или участника СВО?\n",
            "\n",
            "Если перед мобилизацией уже была просрочка по кредиту, что будет с ней после получения кредитных каникул?\n",
            "\n",
            "Что будет со штрафами и пени за просрочку, которая возникла у участника СВО в период с 24 февраля 2022 года?\n",
            "\n",
            "Как понять, что кредитные каникулы предоставлены?\n",
            "\n",
            "Может ли банк продать квартиру или машину, которые находятся у него в залоге?\n",
            "\n",
            "Как начисляются проценты по кредиту или займу, пока заемщик пользуется кредитными каникулами?\n",
            "\n",
            "Как платить по кредиту после окончания кредитных каникул?\n",
            "\n",
            "Как отражаются кредитные каникулы на кредитной истории заемщика?\n",
            "\n",
            "Что будет с долгом, если мобилизованный или другой участник СВО погибнет или скончается от ран?\n",
            "\n",
            "Кто и как может уведомить банк о гибели военнослужащего или о получении им инвалидности I группы?\n",
            "\n",
            "Что будет с кредитными каникулами, если военнослужащий пропал без вести?\n",
            "\n",
            "Я владею ООО. Могу ли я после мобилизации оформить кредитные каникулы по взятым моей компанией кредитам?\n",
            "\n",
            "Как получить кредитные каникулы по кредитам и займам ООО?\n",
            "\n",
            "На какой срок предоставляются кредитные каникулы по кредитам и займам ООО?\n",
            "\n",
            "Как начисляются проценты по кредитам и займам ООО во время кредитных каникул?\n",
            "\n",
            "Как платить по кредитам и займам ООО после окончания кредитных каникул?\n",
            "\n",
            "Может ли мобилизованный досрочно отказаться от ОСАГО и вернуть стоимость полиса?\n",
            "\n"
          ]
        }
      ]
    },
    {
      "cell_type": "code",
      "source": [],
      "metadata": {
        "id": "hmNav2ZbjIeY"
      },
      "execution_count": null,
      "outputs": []
    }
  ]
}